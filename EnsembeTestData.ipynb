{
 "cells": [
  {
   "cell_type": "code",
   "execution_count": 11,
   "metadata": {},
   "outputs": [],
   "source": [
    "import numpy as np\n",
    "np.random.seed(0)\n",
    "import mltools as ml\n",
    "import matplotlib.pyplot as plt # use matplotlib for plotting with inline plot\n",
    "%matplotlib inline"
   ]
  },
  {
   "cell_type": "markdown",
   "metadata": {},
   "source": [
    "## Test Data Ensemble"
   ]
  },
  {
   "cell_type": "code",
   "execution_count": 12,
   "metadata": {},
   "outputs": [],
   "source": [
    "RF = np.genfromtxt(\"C:\\\\Users\\\\regin\\\\Desktop\\\\CS 178\\\\Project\\\\Combo\\\\Y_test10.txt\",delimiter = ', ')\n",
    "# SVM = np.genfromtxt(\"C:\\\\Users\\\\regin\\\\Desktop\\\\CS 178\\\\Project\\\\Combo\\\\SVM_LinKern.txt\",delimiter = ',')\n",
    "SVMK = np.genfromtxt(\"C:\\\\Users\\\\regin\\\\Desktop\\\\CS 178\\\\Project\\\\Combo\\\\SVM_rbf_Kern.txt\", delimiter = ',')\n",
    "NN = np.genfromtxt(\"C:\\\\Users\\\\regin\\\\Desktop\\\\CS 178\\\\Project\\\\Combo\\\\NNlearner.txt\",delimiter = ', ')\n",
    "LC = np.genfromtxt(\"C:\\\\Users\\\\regin\\\\Desktop\\\\CS 178\\\\Project\\\\Combo\\\\Y_testLC1.txt\", delimiter = ', ')"
   ]
  },
  {
   "cell_type": "code",
   "execution_count": 13,
   "metadata": {},
   "outputs": [
    {
     "name": "stdout",
     "output_type": "stream",
     "text": [
      "(200001, 2)\n",
      "(200001, 2)\n",
      "(200001, 2)\n",
      "(200001, 2)\n"
     ]
    }
   ],
   "source": [
    "print(RF.shape)\n",
    "print(SVMK.shape)\n",
    "print(NN.shape)\n",
    "print(LC.shape)"
   ]
  },
  {
   "cell_type": "code",
   "execution_count": 15,
   "metadata": {},
   "outputs": [],
   "source": [
    "# get rid of first line\n",
    "RF = RF[1:,:]\n",
    "SVMK = SVMK[1:,:]\n",
    "NN = NN[1:,:]\n",
    "#print(RFF)"
   ]
  },
  {
   "cell_type": "code",
   "execution_count": 16,
   "metadata": {},
   "outputs": [
    {
     "name": "stdout",
     "output_type": "stream",
     "text": [
      "[0.371344 0.745625 0.171851 ... 0.195665 0.500049 0.23532 ]\n"
     ]
    }
   ],
   "source": [
    "combo = np.zeros(RF.shape[0])\n",
    "#print(combo.shape)\n",
    "for i in range(len(combo)):\n",
    "    # weighted combo\n",
    "    a = (70/100)*RF[i][1]\n",
    "    b = (10/100)*SVMK[i][1]\n",
    "    c = (10/100)*NN[i][1]\n",
    "    d = (10/100)*LC[i][1]\n",
    "    \n",
    "    combo[i] = (a + b + c)\n",
    "    \n",
    "    #combo[i] = (RF[i][1] + SVM[i][1] + NN[i][1])/3            # simpe average\n",
    "print(combo)"
   ]
  },
  {
   "cell_type": "code",
   "execution_count": 17,
   "metadata": {},
   "outputs": [],
   "source": [
    "Y_sub = np.vstack([np.arange(RF.shape[0]), combo]).T\n",
    "np.savetxt(\"C:\\\\Users\\\\regin\\\\Desktop\\\\CS 178\\\\Project\\\\Combo\\\\ensemble70-10_10_10.txt\", Y_sub, '%d, %.5f', header = 'ID,Prob1', comments = '', delimiter = ',')"
   ]
  },
  {
   "cell_type": "code",
   "execution_count": null,
   "metadata": {},
   "outputs": [],
   "source": []
  }
 ],
 "metadata": {
  "kernelspec": {
   "display_name": "Python 3",
   "language": "python",
   "name": "python3"
  },
  "language_info": {
   "codemirror_mode": {
    "name": "ipython",
    "version": 3
   },
   "file_extension": ".py",
   "mimetype": "text/x-python",
   "name": "python",
   "nbconvert_exporter": "python",
   "pygments_lexer": "ipython3",
   "version": "3.8.5"
  }
 },
 "nbformat": 4,
 "nbformat_minor": 4
}
