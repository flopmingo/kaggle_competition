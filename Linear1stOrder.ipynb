{
 "cells": [
  {
   "cell_type": "code",
   "execution_count": 7,
   "metadata": {},
   "outputs": [],
   "source": [
    "import numpy as np\n",
    "np.random.seed(0)\n",
    "import mltools as ml\n",
    "import matplotlib.pyplot as plt # use matplotlib for plotting with inline plot\n",
    "%matplotlib inline"
   ]
  },
  {
   "cell_type": "code",
   "execution_count": 8,
   "metadata": {},
   "outputs": [],
   "source": [
    "X = np.genfromtxt(\"C:\\\\Users\\\\regin\\\\Desktop\\\\CS 178\\\\Project\\\\X_train.txt\", delimiter = None)\n",
    "Y = np.genfromtxt(\"C:\\\\Users\\\\regin\\\\Desktop\\\\CS 178\\\\Project\\\\Y_train.txt\", delimiter = None)\n",
    "\n",
    "Xte = np.genfromtxt(\"C:\\\\Users\\\\regin\\\\Desktop\\\\CS 178\\\\Project\\\\X_test.txt\", delimiter = None)"
   ]
  },
  {
   "cell_type": "code",
   "execution_count": 9,
   "metadata": {},
   "outputs": [],
   "source": [
    "Xtr, Xva, Ytr, Yva = ml.splitData(X, Y) # Default is 80% train & 20% val\n",
    "Xtr, Ytr = ml.shuffleData(Xtr, Ytr)"
   ]
  },
  {
   "cell_type": "code",
   "execution_count": 4,
   "metadata": {},
   "outputs": [],
   "source": [
    "#Taking subsample of data so trains faster; Will train on the whole data for Kaggle\n",
    "Xt, Yt = Xtr[:4000], Ytr[:4000]"
   ]
  },
  {
   "cell_type": "code",
   "execution_count": 5,
   "metadata": {},
   "outputs": [
    {
     "name": "stdout",
     "output_type": "stream",
     "text": [
      "(160000, 14) (200000, 14) (40000, 14)\n"
     ]
    }
   ],
   "source": [
    "# Scaling the data to avoid numerical data issues (esp for when features are large)\n",
    "XtrP, params = ml.rescale(Xtr)\n",
    "#XteP, _ = ml.rescale(Xte, params)\n",
    "XvaP, _ = ml.rescale(Xva, params)\n",
    "\n",
    "print(XtrP.shape, XteP.shape, XvaP.shape)"
   ]
  },
  {
   "cell_type": "code",
   "execution_count": 6,
   "metadata": {},
   "outputs": [
    {
     "ename": "KeyboardInterrupt",
     "evalue": "",
     "output_type": "error",
     "traceback": [
      "\u001b[1;31m---------------------------------------------------------------------------\u001b[0m",
      "\u001b[1;31mKeyboardInterrupt\u001b[0m                         Traceback (most recent call last)",
      "\u001b[1;32m<ipython-input-6-83f412b8d45b>\u001b[0m in \u001b[0;36m<module>\u001b[1;34m\u001b[0m\n\u001b[0;32m      2\u001b[0m \u001b[1;33m\u001b[0m\u001b[0m\n\u001b[0;32m      3\u001b[0m \u001b[0mlearner\u001b[0m \u001b[1;33m=\u001b[0m \u001b[0mml\u001b[0m\u001b[1;33m.\u001b[0m\u001b[0mlinearC\u001b[0m\u001b[1;33m.\u001b[0m\u001b[0mlinearClassify\u001b[0m\u001b[1;33m(\u001b[0m\u001b[1;33m)\u001b[0m\u001b[1;33m\u001b[0m\u001b[1;33m\u001b[0m\u001b[0m\n\u001b[1;32m----> 4\u001b[1;33m \u001b[0mlearner\u001b[0m\u001b[1;33m.\u001b[0m\u001b[0mtrain\u001b[0m\u001b[1;33m(\u001b[0m\u001b[0mXtrP\u001b[0m\u001b[1;33m,\u001b[0m \u001b[0mYtr\u001b[0m\u001b[1;33m,\u001b[0m \u001b[0minitStep\u001b[0m \u001b[1;33m=\u001b[0m \u001b[1;36m0.01\u001b[0m\u001b[1;33m,\u001b[0m \u001b[0mstopTol\u001b[0m \u001b[1;33m=\u001b[0m \u001b[1;36m1e-20\u001b[0m\u001b[1;33m,\u001b[0m \u001b[0mstopIter\u001b[0m \u001b[1;33m=\u001b[0m \u001b[1;36m2000\u001b[0m\u001b[1;33m)\u001b[0m\u001b[1;33m\u001b[0m\u001b[1;33m\u001b[0m\u001b[0m\n\u001b[0m\u001b[0;32m      5\u001b[0m \u001b[1;33m\u001b[0m\u001b[0m\n\u001b[0;32m      6\u001b[0m         \u001b[1;31m# When first debugging, can keep stopTol large & stopIter\u001b[0m\u001b[1;33m\u001b[0m\u001b[1;33m\u001b[0m\u001b[1;33m\u001b[0m\u001b[0m\n",
      "\u001b[1;32m~\\Desktop\\CS 178\\Project\\mltools\\linearC.py\u001b[0m in \u001b[0;36mtrain\u001b[1;34m(self, X, Y, reg, initStep, stopTol, stopIter, plot)\u001b[0m\n\u001b[0;32m    118\u001b[0m             \u001b[1;32mfor\u001b[0m \u001b[0mi\u001b[0m \u001b[1;32min\u001b[0m \u001b[0mrange\u001b[0m\u001b[1;33m(\u001b[0m\u001b[0mM\u001b[0m\u001b[1;33m)\u001b[0m\u001b[1;33m:\u001b[0m  \u001b[1;31m# for each data point\u001b[0m\u001b[1;33m\u001b[0m\u001b[1;33m\u001b[0m\u001b[0m\n\u001b[0;32m    119\u001b[0m                 \u001b[1;31m# compute linear response:\u001b[0m\u001b[1;33m\u001b[0m\u001b[1;33m\u001b[0m\u001b[1;33m\u001b[0m\u001b[0m\n\u001b[1;32m--> 120\u001b[1;33m                 \u001b[0mrespi\u001b[0m \u001b[1;33m=\u001b[0m \u001b[0mself\u001b[0m\u001b[1;33m.\u001b[0m\u001b[0mtheta\u001b[0m\u001b[1;33m[\u001b[0m\u001b[1;33m:\u001b[0m\u001b[1;33m,\u001b[0m\u001b[1;36m0\u001b[0m\u001b[1;33m]\u001b[0m \u001b[1;33m+\u001b[0m \u001b[0mtwod\u001b[0m\u001b[1;33m(\u001b[0m\u001b[0mX\u001b[0m\u001b[1;33m[\u001b[0m\u001b[0mi\u001b[0m\u001b[1;33m,\u001b[0m\u001b[1;33m:\u001b[0m\u001b[1;33m]\u001b[0m\u001b[1;33m)\u001b[0m\u001b[1;33m.\u001b[0m\u001b[0mdot\u001b[0m\u001b[1;33m(\u001b[0m\u001b[0mself\u001b[0m\u001b[1;33m.\u001b[0m\u001b[0mtheta\u001b[0m\u001b[1;33m[\u001b[0m\u001b[1;33m:\u001b[0m\u001b[1;33m,\u001b[0m\u001b[1;36m1\u001b[0m\u001b[1;33m:\u001b[0m\u001b[1;33m]\u001b[0m\u001b[1;33m.\u001b[0m\u001b[0mT\u001b[0m\u001b[1;33m)\u001b[0m\u001b[1;33m\u001b[0m\u001b[1;33m\u001b[0m\u001b[0m\n\u001b[0m\u001b[0;32m    121\u001b[0m                 \u001b[0myhati\u001b[0m \u001b[1;33m=\u001b[0m \u001b[1;36m1.0\u001b[0m \u001b[1;32mif\u001b[0m \u001b[0mrespi\u001b[0m \u001b[1;33m>\u001b[0m \u001b[1;36m0\u001b[0m \u001b[1;32melse\u001b[0m \u001b[1;36m0.0\u001b[0m   \u001b[1;31m# convert to 0/1 prediction\u001b[0m\u001b[1;33m\u001b[0m\u001b[1;33m\u001b[0m\u001b[0m\n\u001b[0;32m    122\u001b[0m                 \u001b[0msigx\u001b[0m  \u001b[1;33m=\u001b[0m \u001b[0mnp\u001b[0m\u001b[1;33m.\u001b[0m\u001b[0mexp\u001b[0m\u001b[1;33m(\u001b[0m\u001b[0mrespi\u001b[0m\u001b[1;33m)\u001b[0m \u001b[1;33m/\u001b[0m \u001b[1;33m(\u001b[0m\u001b[1;36m1.0\u001b[0m\u001b[1;33m+\u001b[0m\u001b[0mnp\u001b[0m\u001b[1;33m.\u001b[0m\u001b[0mexp\u001b[0m\u001b[1;33m(\u001b[0m\u001b[0mrespi\u001b[0m\u001b[1;33m)\u001b[0m\u001b[1;33m)\u001b[0m\u001b[1;33m\u001b[0m\u001b[1;33m\u001b[0m\u001b[0m\n",
      "\u001b[1;31mKeyboardInterrupt\u001b[0m: "
     ]
    }
   ],
   "source": [
    "# Train model\n",
    "\n",
    "learner = ml.linearC.linearClassify()\n",
    "learner.train(XtrP, Ytr, initStep = 0.01, stopTol = 1e-20, stopIter = 2000)\n",
    "    \n",
    "        # When first debugging, can keep stopTol large & stopIter\n",
    "        # but may want to tune for Kaggle\n",
    "#probs = learner.predictSoft(XteP)"
   ]
  },
  {
   "cell_type": "code",
   "execution_count": null,
   "metadata": {},
   "outputs": [],
   "source": [
    "print(\"{0:>15}: {1:.4f}\".format('Train AUC', learner.auc(XtrP,Ytr)))\n",
    "print(\"{0:>15}: {1:.4f}\".format('Validation AUC', learner.auc(XvaP,Yva)))"
   ]
  },
  {
   "cell_type": "code",
   "execution_count": 8,
   "metadata": {},
   "outputs": [
    {
     "name": "stdout",
     "output_type": "stream",
     "text": [
      "linearClassify model, 1 features\n",
      "[[-0.77294238  0.0551793  -0.36060974  0.21981132 -0.23280506  0.06811944\n",
      "  -0.11054289  0.00329001  0.1261318   0.12167522 -0.14902035 -0.46999691\n",
      "  -0.0918314   0.18072456  0.14174873]]\n"
     ]
    }
   ],
   "source": [
    "print(learner)"
   ]
  },
  {
   "cell_type": "code",
   "execution_count": null,
   "metadata": {},
   "outputs": [],
   "source": [
    "initStep = 0.5, stopTol = 1e-6, stopIter 100\n",
    "0.6200\n",
    "\n",
    "initStep = 0.1, stopTol = 1e-10, stopIter 500\n",
    "      Train AUC: 0.6456\n",
    " Validation AUC: 0.6545\n",
    "\n",
    "initStep = 0.1, stopTol = 1e-10, stopIter 1000\n",
    "      Train AUC: 0.6458\n",
    " Validation AUC: 0.6547\n",
    "\n",
    "initStep = 0.01, stopTol = 1e-20, stopIter = 2000\n",
    "      Train AUC: 0.6459\n",
    " Validation AUC: 0.6548\n",
    "    \n",
    "All training data "
   ]
  },
  {
   "cell_type": "code",
   "execution_count": 11,
   "metadata": {},
   "outputs": [],
   "source": [
    "XtRe, YRe = ml.shuffleData(X,Y)\n",
    "XtRe, params = ml.rescale(XtRe)"
   ]
  },
  {
   "cell_type": "code",
   "execution_count": 13,
   "metadata": {},
   "outputs": [
    {
     "name": "stdout",
     "output_type": "stream",
     "text": [
      "      Train AUC: 0.6556\n",
      " Validation AUC: 0.6556\n"
     ]
    }
   ],
   "source": [
    "nFolds = 10\n",
    "\n",
    "Jt = np.zeros(nFolds)\n",
    "Jv = np.zeros(nFolds)\n",
    "\n",
    "for i in range(nFolds):\n",
    "    Xti, Xvi, Yti, Yvi = ml.crossValidate(XtRe, YRe, nFolds, i)\n",
    "    \n",
    "    learner = ml.linearC.linearClassify()\n",
    "    learner.train(XtrP, Ytr, initStep = 0.01, stopTol = 1e-20, stopIter = 100)\n",
    "    \n",
    "    Jt[i] = learner.auc(Xti, Yti)\n",
    "    Jv[i] = learner.auc(Xvi, Yvi)\n",
    "\n",
    "print(\"{0:>15}: {1:.4f}\".format('Train AUC', np.mean(Jt)))\n",
    "print(\"{0:>15}: {1:.4f}\".format('Validation AUC', np.mean(Jv)))\n",
    "    "
   ]
  },
  {
   "cell_type": "code",
   "execution_count": null,
   "metadata": {},
   "outputs": [],
   "source": []
  }
 ],
 "metadata": {
  "kernelspec": {
   "display_name": "Python 3",
   "language": "python",
   "name": "python3"
  },
  "language_info": {
   "codemirror_mode": {
    "name": "ipython",
    "version": 3
   },
   "file_extension": ".py",
   "mimetype": "text/x-python",
   "name": "python",
   "nbconvert_exporter": "python",
   "pygments_lexer": "ipython3",
   "version": "3.8.5"
  }
 },
 "nbformat": 4,
 "nbformat_minor": 4
}
