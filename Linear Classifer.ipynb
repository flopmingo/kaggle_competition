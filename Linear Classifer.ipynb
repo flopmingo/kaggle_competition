{
 "cells": [
  {
   "cell_type": "code",
   "execution_count": 1,
   "metadata": {},
   "outputs": [],
   "source": [
    "import numpy as np\n",
    "np.random.seed(0)\n",
    "import mltools as ml\n",
    "import matplotlib.pyplot as plt # use matplotlib for plotting with inline plot\n",
    "%matplotlib inline"
   ]
  },
  {
   "cell_type": "code",
   "execution_count": 2,
   "metadata": {},
   "outputs": [],
   "source": [
    "X = np.genfromtxt(\"C:\\\\Users\\\\regin\\\\Desktop\\\\CS 178\\\\Project\\\\X_train.txt\", delimiter = None)\n",
    "Y = np.genfromtxt(\"C:\\\\Users\\\\regin\\\\Desktop\\\\CS 178\\\\Project\\\\Y_train.txt\", delimiter = None)\n",
    "\n",
    "Xte = np.genfromtxt(\"C:\\\\Users\\\\regin\\\\Desktop\\\\CS 178\\\\Project\\\\X_test.txt\", delimiter = None)"
   ]
  },
  {
   "cell_type": "code",
   "execution_count": 4,
   "metadata": {},
   "outputs": [],
   "source": [
    "# Xtr, Xva, Ytr, Yva = ml.splitData(X, Y) # Default is 80% train & 20% val\n",
    "# Xtr, Ytr = ml.shuffleData(Xtr, Ytr)\n",
    "\n",
    "Xtr, Ytr = ml.shuffleData(X,Y)"
   ]
  },
  {
   "cell_type": "code",
   "execution_count": 6,
   "metadata": {},
   "outputs": [],
   "source": [
    "# Scaling the data to avoid numerical data issues (esp for when features are large)\n",
    "XtrP, params = ml.rescale(Xtr)\n",
    "XteP, _ = ml.rescale(Xte, params)\n",
    "#XvaP, _ = ml.rescale(Xva, params)"
   ]
  },
  {
   "cell_type": "code",
   "execution_count": 7,
   "metadata": {},
   "outputs": [],
   "source": [
    "XtrP = ml.transforms.fpoly(Xtr, 2, bias = False)\n",
    "#XteP = ml.transforms.fpoly(XteP, 2, bias = False)\n",
    "#XvaP = ml.transforms.fpoly(Xva, 2, bias = False)\n",
    "\n",
    "XtrP, params = ml.rescale(XtrP)\n",
    "#XteP, _ = ml.rescale(XteP, params)\n",
    "#XvaP, _ = ml.rescale(XvaP, params)"
   ]
  },
  {
   "cell_type": "code",
   "execution_count": 27,
   "metadata": {},
   "outputs": [],
   "source": [
    "XtrLF = ml.transforms.fsubset(XtrP, 9)\n",
    "XtrLF = np.atleast_2d(XtrLF)\n",
    "XtrLF = XtrLF[0][0]\n",
    "XtrLF, params = ml.rescale(XtrLF)\n",
    "#print(XtrLF)"
   ]
  },
  {
   "cell_type": "code",
   "execution_count": 28,
   "metadata": {},
   "outputs": [],
   "source": [
    "XtrLF = ml.transforms.fpoly(XtrLF, 4, bias = False)\n",
    "#XteP = ml.transforms.fpoly(XteP, i, bias = False)\n",
    "#XvaP = ml.transforms.fpoly(Xva, 3, bias = False)\n",
    "\n",
    "XtrLF, params = ml.rescale(XtrLF)\n",
    "#XteP, _ = ml.rescale(XteP, params)\n",
    "#XvaP, _ = ml.rescale(XvaP, params)"
   ]
  },
  {
   "cell_type": "code",
   "execution_count": 26,
   "metadata": {
    "scrolled": true
   },
   "outputs": [
    {
     "ename": "KeyboardInterrupt",
     "evalue": "",
     "output_type": "error",
     "traceback": [
      "\u001b[1;31m---------------------------------------------------------------------------\u001b[0m",
      "\u001b[1;31mKeyboardInterrupt\u001b[0m                         Traceback (most recent call last)",
      "\u001b[1;32m<ipython-input-26-113480ff1805>\u001b[0m in \u001b[0;36m<module>\u001b[1;34m\u001b[0m\n\u001b[0;32m      2\u001b[0m \u001b[1;33m\u001b[0m\u001b[0m\n\u001b[0;32m      3\u001b[0m \u001b[0mlearner\u001b[0m \u001b[1;33m=\u001b[0m \u001b[0mml\u001b[0m\u001b[1;33m.\u001b[0m\u001b[0mlinearC\u001b[0m\u001b[1;33m.\u001b[0m\u001b[0mlinearClassify\u001b[0m\u001b[1;33m(\u001b[0m\u001b[1;33m)\u001b[0m\u001b[1;33m\u001b[0m\u001b[1;33m\u001b[0m\u001b[0m\n\u001b[1;32m----> 4\u001b[1;33m \u001b[0mlearner\u001b[0m\u001b[1;33m.\u001b[0m\u001b[0mtrain\u001b[0m\u001b[1;33m(\u001b[0m\u001b[0mXtrP\u001b[0m\u001b[1;33m,\u001b[0m \u001b[0mYtr\u001b[0m\u001b[1;33m,\u001b[0m \u001b[0minitStep\u001b[0m \u001b[1;33m=\u001b[0m \u001b[1;36m0.1\u001b[0m\u001b[1;33m,\u001b[0m \u001b[0mstopTol\u001b[0m \u001b[1;33m=\u001b[0m \u001b[1;36m1e-20\u001b[0m\u001b[1;33m,\u001b[0m \u001b[0mstopIter\u001b[0m \u001b[1;33m=\u001b[0m \u001b[1;36m2000\u001b[0m\u001b[1;33m)\u001b[0m\u001b[1;33m\u001b[0m\u001b[1;33m\u001b[0m\u001b[0m\n\u001b[0m\u001b[0;32m      5\u001b[0m \u001b[1;33m\u001b[0m\u001b[0m\n\u001b[0;32m      6\u001b[0m         \u001b[1;31m# When first debugging, can keep stopTol large & stopIter\u001b[0m\u001b[1;33m\u001b[0m\u001b[1;33m\u001b[0m\u001b[1;33m\u001b[0m\u001b[0m\n",
      "\u001b[1;32m~\\Desktop\\CS 178\\Project\\mltools\\linearC.py\u001b[0m in \u001b[0;36mtrain\u001b[1;34m(self, X, Y, reg, initStep, stopTol, stopIter, plot)\u001b[0m\n\u001b[0;32m    118\u001b[0m             \u001b[1;32mfor\u001b[0m \u001b[0mi\u001b[0m \u001b[1;32min\u001b[0m \u001b[0mrange\u001b[0m\u001b[1;33m(\u001b[0m\u001b[0mM\u001b[0m\u001b[1;33m)\u001b[0m\u001b[1;33m:\u001b[0m  \u001b[1;31m# for each data point\u001b[0m\u001b[1;33m\u001b[0m\u001b[1;33m\u001b[0m\u001b[0m\n\u001b[0;32m    119\u001b[0m                 \u001b[1;31m# compute linear response:\u001b[0m\u001b[1;33m\u001b[0m\u001b[1;33m\u001b[0m\u001b[1;33m\u001b[0m\u001b[0m\n\u001b[1;32m--> 120\u001b[1;33m                 \u001b[0mrespi\u001b[0m \u001b[1;33m=\u001b[0m \u001b[0mself\u001b[0m\u001b[1;33m.\u001b[0m\u001b[0mtheta\u001b[0m\u001b[1;33m[\u001b[0m\u001b[1;33m:\u001b[0m\u001b[1;33m,\u001b[0m\u001b[1;36m0\u001b[0m\u001b[1;33m]\u001b[0m \u001b[1;33m+\u001b[0m \u001b[0mtwod\u001b[0m\u001b[1;33m(\u001b[0m\u001b[0mX\u001b[0m\u001b[1;33m[\u001b[0m\u001b[0mi\u001b[0m\u001b[1;33m,\u001b[0m\u001b[1;33m:\u001b[0m\u001b[1;33m]\u001b[0m\u001b[1;33m)\u001b[0m\u001b[1;33m.\u001b[0m\u001b[0mdot\u001b[0m\u001b[1;33m(\u001b[0m\u001b[0mself\u001b[0m\u001b[1;33m.\u001b[0m\u001b[0mtheta\u001b[0m\u001b[1;33m[\u001b[0m\u001b[1;33m:\u001b[0m\u001b[1;33m,\u001b[0m\u001b[1;36m1\u001b[0m\u001b[1;33m:\u001b[0m\u001b[1;33m]\u001b[0m\u001b[1;33m.\u001b[0m\u001b[0mT\u001b[0m\u001b[1;33m)\u001b[0m\u001b[1;33m\u001b[0m\u001b[1;33m\u001b[0m\u001b[0m\n\u001b[0m\u001b[0;32m    121\u001b[0m                 \u001b[0myhati\u001b[0m \u001b[1;33m=\u001b[0m \u001b[1;36m1.0\u001b[0m \u001b[1;32mif\u001b[0m \u001b[0mrespi\u001b[0m \u001b[1;33m>\u001b[0m \u001b[1;36m0\u001b[0m \u001b[1;32melse\u001b[0m \u001b[1;36m0.0\u001b[0m   \u001b[1;31m# convert to 0/1 prediction\u001b[0m\u001b[1;33m\u001b[0m\u001b[1;33m\u001b[0m\u001b[0m\n\u001b[0;32m    122\u001b[0m                 \u001b[0msigx\u001b[0m  \u001b[1;33m=\u001b[0m \u001b[0mnp\u001b[0m\u001b[1;33m.\u001b[0m\u001b[0mexp\u001b[0m\u001b[1;33m(\u001b[0m\u001b[0mrespi\u001b[0m\u001b[1;33m)\u001b[0m \u001b[1;33m/\u001b[0m \u001b[1;33m(\u001b[0m\u001b[1;36m1.0\u001b[0m\u001b[1;33m+\u001b[0m\u001b[0mnp\u001b[0m\u001b[1;33m.\u001b[0m\u001b[0mexp\u001b[0m\u001b[1;33m(\u001b[0m\u001b[0mrespi\u001b[0m\u001b[1;33m)\u001b[0m\u001b[1;33m)\u001b[0m\u001b[1;33m\u001b[0m\u001b[1;33m\u001b[0m\u001b[0m\n",
      "\u001b[1;31mKeyboardInterrupt\u001b[0m: "
     ]
    }
   ],
   "source": [
    "# Train model\n",
    "\n",
    "learner = ml.linearC.linearClassify()\n",
    "learner.train(XtrP, Ytr, initStep = 0.1, stopTol = 1e-20, stopIter = 2000)\n",
    "    \n",
    "        # When first debugging, can keep stopTol large & stopIter\n",
    "        # but may want to tune for Kaggle\n",
    "#probs = learner.predictSoft(XteP)"
   ]
  },
  {
   "cell_type": "code",
   "execution_count": null,
   "metadata": {},
   "outputs": [],
   "source": [
    "nFolds = 10\n",
    "\n",
    "Jt = np.zeros(nFolds)\n",
    "Jv = np.zeros(nFolds)\n",
    "\n",
    "for i in range(nFolds):\n",
    "    Xti, Xvi, Yti, Yvi = ml.crossValidate(XtrLF, Ytr, nFolds, i)\n",
    "    \n",
    "    learner = ml.linearC.linearClassify()\n",
    "    learner.train(Xti, Yti, initStep = 0.01, stopTol = 1e-20, stopIter = 500)\n",
    "    \n",
    "    Jt[i] = learner.auc(Xti, Yti)\n",
    "    Jv[i] = learner.auc(Xvi, Yvi)\n",
    "\n",
    "print(\"{0:>15}: {1:.4f}\".format('Train AUC', np.mean(Jt)))\n",
    "print(\"{0:>15}: {1:.4f}\".format('Validation AUC', np.mean(Jv)))"
   ]
  },
  {
   "cell_type": "code",
   "execution_count": 17,
   "metadata": {},
   "outputs": [],
   "source": [
    "XteP = ml.transforms.fpoly(XteP, 3, bias = False)\n",
    "XteP, _ = ml.rescale(XteP, params)\n",
    "probs = learner.predictSoft(XteP)"
   ]
  },
  {
   "cell_type": "code",
   "execution_count": 18,
   "metadata": {},
   "outputs": [],
   "source": [
    "Y_sub = np.vstack([np.arange(Xte.shape[0]), probs[:,1]]).T\n",
    "np.savetxt(\"C:\\\\Users\\\\regin\\\\Desktop\\\\CS 178\\\\Project\\\\Y_testLC2.txt\", Y_sub, '%d, %.5f', header = 'ID,Prob1', comments = '', delimiter = ',')"
   ]
  },
  {
   "cell_type": "markdown",
   "metadata": {},
   "source": [
    "2nd order w/ rescale & w/o reg\n",
    "initstep 0.1, stopTol = 1e-10, stopIter = 500\n",
    "      Train AUC: 0.6702\n",
    " Validation AUC: 0.6635\n",
    "- ~~~~~~~ definite improvement compared to when usisng 100 iterations, Train AUC: 0.5636 Validation AUC: 0.5546~~~~~~ -\n",
    "\n",
    "initstep 0.1, stopTol = 1e-15, stopIter = 1000\n",
    "      Train AUC: 0.6746\n",
    " Validation AUC: 0.6670\n",
    " \n",
    "initstep 0.1, stopTol = 1e-15, stopIter = 2000\n",
    "\n",
    "      Train AUC: 0.6976\n",
    " Validation AUC: 0.6691\n",
    " \n",
    " XtrP, Yt, initStep = 0.01, stopTol = 1e-20, stopIter = 2000\n",
    "       Train AUC: 0.6896\n",
    " Validation AUC: 0.6680\n",
    " \n",
    "XtrP, Yt, initStep = 0.05, stopTol = 1e-20, stopIter = 2000\n",
    "  \n",
    "      Train AUC: 0.6969\n",
    " Validation AUC: 0.6676\n",
    " \n",
    "Full data set (no CV) TestLC1\n",
    "      Train AUC: 0.6777\n",
    " Validation AUC: 0.6815\n",
    " \n",
    " 3rd degree 10 features\n",
    " initStep = 0.1, stopTol = 1e-20, stopIter = 100\n",
    "       Train AUC: 0.6046\n",
    " Validation AUC: 0.6041\n",
    " \n",
    "initStep = 0.1, stopTol = 1e-20, stopIter = 500\n",
    "      Train AUC: 0.6193\n",
    " Validation AUC: 0.6179\n",
    " \n",
    " 4th degree nine features\n",
    "initStep = 0.1, stopTol = 1e-20, stopIter = 500"
   ]
  },
  {
   "cell_type": "markdown",
   "metadata": {},
   "source": [
    "1st order\n",
    "initStep = 0.5, stopTol = 1e-6, stopIter = 100\n",
    "      Train AUC: 0.6639\n",
    " Validation AUC: 0.6543\n",
    " \n",
    " \n",
    "2nd order w/o rescale\n",
    "      Train AUC: 0.5006\n",
    " Validation AUC: 0.5040\n",
    "\n",
    "\n",
    "2nd order w/ rescale (but no reg)\n",
    "      Train AUC: 0.5636\n",
    " Validation AUC: 0.5546\n",
    " \n",
    "reg = 0.1/0.2\n",
    "      Train AUC: 0.4995\n",
    " Validation AUC: 0.5040\n",
    " \n",
    " reg = 0.3 \n",
    "      Train AUC: 0.4625\n",
    " Validation AUC: 0.4595"
   ]
  },
  {
   "cell_type": "markdown",
   "metadata": {},
   "source": [
    "tried different reg; only best value is 0 soooo am not too sure"
   ]
  },
  {
   "cell_type": "code",
   "execution_count": 21,
   "metadata": {},
   "outputs": [
    {
     "ename": "NameError",
     "evalue": "name 'Xva' is not defined",
     "output_type": "error",
     "traceback": [
      "\u001b[1;31m---------------------------------------------------------------------------\u001b[0m",
      "\u001b[1;31mNameError\u001b[0m                                 Traceback (most recent call last)",
      "\u001b[1;32m<ipython-input-21-3b091ebc0ac6>\u001b[0m in \u001b[0;36m<module>\u001b[1;34m\u001b[0m\n\u001b[0;32m      1\u001b[0m \u001b[0mXtrLF\u001b[0m \u001b[1;33m=\u001b[0m \u001b[0mml\u001b[0m\u001b[1;33m.\u001b[0m\u001b[0mtransforms\u001b[0m\u001b[1;33m.\u001b[0m\u001b[0mfpoly\u001b[0m\u001b[1;33m(\u001b[0m\u001b[0mXtrLF\u001b[0m\u001b[1;33m,\u001b[0m \u001b[1;36m3\u001b[0m\u001b[1;33m,\u001b[0m \u001b[0mbias\u001b[0m \u001b[1;33m=\u001b[0m \u001b[1;32mFalse\u001b[0m\u001b[1;33m)\u001b[0m\u001b[1;33m\u001b[0m\u001b[1;33m\u001b[0m\u001b[0m\n\u001b[0;32m      2\u001b[0m \u001b[1;31m#XteP = ml.transforms.fpoly(XteP, i, bias = False)\u001b[0m\u001b[1;33m\u001b[0m\u001b[1;33m\u001b[0m\u001b[1;33m\u001b[0m\u001b[0m\n\u001b[1;32m----> 3\u001b[1;33m \u001b[0mXvaP\u001b[0m \u001b[1;33m=\u001b[0m \u001b[0mml\u001b[0m\u001b[1;33m.\u001b[0m\u001b[0mtransforms\u001b[0m\u001b[1;33m.\u001b[0m\u001b[0mfpoly\u001b[0m\u001b[1;33m(\u001b[0m\u001b[0mXva\u001b[0m\u001b[1;33m,\u001b[0m \u001b[1;36m3\u001b[0m\u001b[1;33m,\u001b[0m \u001b[0mbias\u001b[0m \u001b[1;33m=\u001b[0m \u001b[1;32mFalse\u001b[0m\u001b[1;33m)\u001b[0m\u001b[1;33m\u001b[0m\u001b[1;33m\u001b[0m\u001b[0m\n\u001b[0m\u001b[0;32m      4\u001b[0m \u001b[1;33m\u001b[0m\u001b[0m\n\u001b[0;32m      5\u001b[0m \u001b[0mXtrLF\u001b[0m\u001b[1;33m,\u001b[0m \u001b[0mparams\u001b[0m \u001b[1;33m=\u001b[0m \u001b[0mml\u001b[0m\u001b[1;33m.\u001b[0m\u001b[0mrescale\u001b[0m\u001b[1;33m(\u001b[0m\u001b[0mXtrLF\u001b[0m\u001b[1;33m)\u001b[0m\u001b[1;33m\u001b[0m\u001b[1;33m\u001b[0m\u001b[0m\n",
      "\u001b[1;31mNameError\u001b[0m: name 'Xva' is not defined"
     ]
    }
   ],
   "source": [
    "XtrLF = ml.transforms.fpoly(XtrLF, 3, bias = False)\n",
    "#XteP = ml.transforms.fpoly(XteP, i, bias = False)\n",
    "XvaP = ml.transforms.fpoly(Xva, 3, bias = False)\n",
    "\n",
    "XtrLF, params = ml.rescale(XtrLF)\n",
    "#XteP, _ = ml.rescale(XteP, params)\n",
    "XvaP, _ = ml.rescale(XvaP, params)"
   ]
  },
  {
   "cell_type": "code",
   "execution_count": null,
   "metadata": {},
   "outputs": [],
   "source": []
  },
  {
   "cell_type": "markdown",
   "metadata": {},
   "source": [
    "## 3rd degree"
   ]
  },
  {
   "cell_type": "code",
   "execution_count": null,
   "metadata": {},
   "outputs": [],
   "source": []
  }
 ],
 "metadata": {
  "kernelspec": {
   "display_name": "Python 3",
   "language": "python",
   "name": "python3"
  },
  "language_info": {
   "codemirror_mode": {
    "name": "ipython",
    "version": 3
   },
   "file_extension": ".py",
   "mimetype": "text/x-python",
   "name": "python",
   "nbconvert_exporter": "python",
   "pygments_lexer": "ipython3",
   "version": "3.8.5"
  }
 },
 "nbformat": 4,
 "nbformat_minor": 4
}
