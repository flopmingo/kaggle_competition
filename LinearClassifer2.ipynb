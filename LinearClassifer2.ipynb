{
 "cells": [
  {
   "cell_type": "code",
   "execution_count": 1,
   "metadata": {},
   "outputs": [],
   "source": [
    "import numpy as np\n",
    "np.random.seed(0)\n",
    "import mltools as ml\n",
    "import matplotlib.pyplot as plt # use matplotlib for plotting with inline plot\n",
    "%matplotlib inline"
   ]
  },
  {
   "cell_type": "code",
   "execution_count": 2,
   "metadata": {},
   "outputs": [],
   "source": [
    "X = np.genfromtxt(\"C:\\\\Users\\\\regin\\\\Desktop\\\\CS 178\\\\Project\\\\X_train.txt\", delimiter = None)\n",
    "Y = np.genfromtxt(\"C:\\\\Users\\\\regin\\\\Desktop\\\\CS 178\\\\Project\\\\Y_train.txt\", delimiter = None)\n",
    "\n",
    "Xte = np.genfromtxt(\"C:\\\\Users\\\\regin\\\\Desktop\\\\CS 178\\\\Project\\\\X_test.txt\", delimiter = None)"
   ]
  },
  {
   "cell_type": "code",
   "execution_count": 3,
   "metadata": {},
   "outputs": [],
   "source": [
    "Xtr, Ytr = ml.shuffleData(X,Y)\n",
    "XtrP, params = ml.rescale(Xtr)\n",
    "XteP, _ = ml.rescale(Xte, params)"
   ]
  },
  {
   "cell_type": "code",
   "execution_count": 4,
   "metadata": {},
   "outputs": [],
   "source": [
    "XtrP = ml.transforms.fpoly(Xtr, 2, bias = False)\n",
    "XteP = ml.transforms.fpoly(XteP, 2, bias = False)\n",
    "\n",
    "XtrP, params = ml.rescale(XtrP)\n",
    "XteP, _ = ml.rescale(XteP, params)"
   ]
  },
  {
   "cell_type": "code",
   "execution_count": 5,
   "metadata": {},
   "outputs": [
    {
     "name": "stderr",
     "output_type": "stream",
     "text": [
      "C:\\Users\\regin\\Desktop\\CS 178\\Project\\mltools\\base.py:96: RuntimeWarning: divide by zero encountered in log\n",
      "  return - np.mean( np.log( P[ np.arange(M), Y ] ) ) # evaluate\n",
      "C:\\Users\\regin\\Desktop\\CS 178\\Project\\mltools\\linearC.py:134: RuntimeWarning: invalid value encountered in double_scalars\n",
      "  done = (it > stopIter) or ( (it>1) and (abs(Jsur[-1]-Jsur[-2])<stopTol) )\n"
     ]
    },
    {
     "name": "stdout",
     "output_type": "stream",
     "text": [
      "      Train AUC: 0.6772\n",
      " Validation AUC: 0.6765\n"
     ]
    }
   ],
   "source": [
    "nFolds = 10\n",
    "\n",
    "Jt = np.zeros(nFolds)\n",
    "Jv = np.zeros(nFolds)\n",
    "\n",
    "for i in range(nFolds):\n",
    "    Xti, Xvi, Yti, Yvi = ml.crossValidate(XtrP, Ytr, nFolds, i)\n",
    "    \n",
    "    learner = ml.linearC.linearClassify()\n",
    "    learner.train(Xti, Yti, initStep = 0.01, stopTol = 1e-20, stopIter = 500)\n",
    "    \n",
    "    Jt[i] = learner.auc(Xti, Yti)\n",
    "    Jv[i] = learner.auc(Xvi, Yvi)\n",
    "\n",
    "print(\"{0:>15}: {1:.4f}\".format('Train AUC', np.mean(Jt)))\n",
    "print(\"{0:>15}: {1:.4f}\".format('Validation AUC', np.mean(Jv)))"
   ]
  },
  {
   "cell_type": "code",
   "execution_count": 6,
   "metadata": {},
   "outputs": [],
   "source": [
    "probs = learner.predictSoft(XteP)\n",
    "\n",
    "Y_sub = np.vstack([np.arange(Xte.shape[0]), probs[:,1]]).T\n",
    "np.savetxt(\"C:\\\\Users\\\\regin\\\\Desktop\\\\CS 178\\\\Project\\\\Y_testLC1.txt\", Y_sub, '%d, %.5f', header = 'ID,Prob1', comments = '', delimiter = ',')"
   ]
  },
  {
   "cell_type": "code",
   "execution_count": null,
   "metadata": {},
   "outputs": [],
   "source": []
  }
 ],
 "metadata": {
  "kernelspec": {
   "display_name": "Python 3",
   "language": "python",
   "name": "python3"
  },
  "language_info": {
   "codemirror_mode": {
    "name": "ipython",
    "version": 3
   },
   "file_extension": ".py",
   "mimetype": "text/x-python",
   "name": "python",
   "nbconvert_exporter": "python",
   "pygments_lexer": "ipython3",
   "version": "3.8.5"
  }
 },
 "nbformat": 4,
 "nbformat_minor": 4
}
